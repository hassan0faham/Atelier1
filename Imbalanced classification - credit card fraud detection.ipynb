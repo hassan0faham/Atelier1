{
 "cells": [
  {
   "cell_type": "code",
   "execution_count": 2,
   "id": "6d8ace7c",
   "metadata": {},
   "outputs": [],
   "source": [
    "import csv\n",
    "import numpy as np\n",
    "import opendatasets as od\n",
    "import pandas as pd\n",
    "import os"
   ]
  },
  {
   "cell_type": "code",
   "execution_count": 3,
   "id": "8ed47f2b",
   "metadata": {},
   "outputs": [
    {
     "name": "stdout",
     "output_type": "stream",
     "text": [
      "Skipping, found downloaded files in \".\\creditcardfraud\" (use force=True to force download)\n"
     ]
    }
   ],
   "source": [
    "od.download(\"https://www.kaggle.com/datasets/mlg-ulb/creditcardfraud/download?datasetVersionNumber=3\")"
   ]
  },
  {
   "cell_type": "code",
   "execution_count": 6,
   "id": "e7d561ae",
   "metadata": {},
   "outputs": [
    {
     "name": "stdout",
     "output_type": "stream",
     "text": [
      "HEADER: \"Time\",\"V1\",\"V2\",\"V3\",\"V4\",\"V5\",\"V6\",\"V7\",\"V8\",\"V9\",\"V10\",\"V11\",\"V12\",\"V13\",\"V14\",\"V15\",\"V16\",\"V17\",\"V18\",\"V19\",\"V20\",\"V21\",\"V22\",\"V23\",\"V24\",\"V25\",\"V26\",\"V27\",\"V28\",\"Amount\",\"Class\"\n",
      "EXAMPLE FEATURES: [0.0, -1.3598071336738, -0.0727811733098497, 2.53634673796914, 1.37815522427443, -0.338320769942518, 0.462387777762292, 0.239598554061257, 0.0986979012610507, 0.363786969611213, 0.0907941719789316, -0.551599533260813, -0.617800855762348, -0.991389847235408, -0.311169353699879, 1.46817697209427, -0.470400525259478, 0.207971241929242, 0.0257905801985591, 0.403992960255733, 0.251412098239705, -0.018306777944153, 0.277837575558899, -0.110473910188767, 0.0669280749146731, 0.128539358273528, -0.189114843888824, 0.133558376740387, -0.0210530534538215, 149.62]\n",
      "features.shape: (284807, 30)\n",
      "targets.shape: (284807, 1)\n"
     ]
    }
   ],
   "source": [
    "fname = \"./creditcardfraud/creditcard.csv\"\n",
    "all_features = []\n",
    "all_targets = []\n",
    "with open(fname) as f:\n",
    "    for i, line in enumerate(f):\n",
    "        if i == 0:\n",
    "            print(\"HEADER:\", line.strip())\n",
    "            continue  # Skip header\n",
    "        fields = line.strip().split(\",\")\n",
    "        all_features.append([float(v.replace('\"', \"\")) for v in fields[:-1]])\n",
    "        all_targets.append([int(fields[-1].replace('\"', \"\"))])\n",
    "        if i == 1:\n",
    "            print(\"EXAMPLE FEATURES:\", all_features[-1])\n",
    "\n",
    "features = np.array(all_features, dtype=\"float32\")\n",
    "targets = np.array(all_targets, dtype=\"uint8\")\n",
    "print(\"features.shape:\", features.shape)\n",
    "print(\"targets.shape:\", targets.shape)"
   ]
  },
  {
   "cell_type": "code",
   "execution_count": 9,
   "id": "ea4462f6",
   "metadata": {},
   "outputs": [
    {
     "name": "stdout",
     "output_type": "stream",
     "text": [
      "Number of training samples: 227846\n",
      "Number of validation samples: 56961\n"
     ]
    }
   ],
   "source": [
    "num_val_samples = int(len(features) * 0.2)\n",
    "train_features = features[:-num_val_samples]\n",
    "train_targets = targets[:-num_val_samples]\n",
    "val_features = features[-num_val_samples:]\n",
    "val_targets = targets[-num_val_samples:]\n",
    "\n",
    "print(\"Number of training samples:\", len(train_features))\n",
    "print(\"Number of validation samples:\", len(val_features))"
   ]
  },
  {
   "cell_type": "markdown",
   "id": "1d129e4a",
   "metadata": {},
   "source": [
    "<h6>Analyze class imbalance in the targets</h6>"
   ]
  },
  {
   "cell_type": "code",
   "execution_count": 10,
   "id": "97b93721",
   "metadata": {},
   "outputs": [
    {
     "name": "stdout",
     "output_type": "stream",
     "text": [
      "Number of positive samples in training data: 417 (0.18% of total)\n"
     ]
    }
   ],
   "source": [
    "counts = np.bincount(train_targets[:, 0])\n",
    "print(\n",
    "    \"Number of positive samples in training data: {} ({:.2f}% of total)\".format(\n",
    "        counts[1], 100 * float(counts[1]) / len(train_targets)\n",
    "    )\n",
    ")\n",
    "\n",
    "weight_for_0 = 1.0 / counts[0]\n",
    "weight_for_1 = 1.0 / counts[1]"
   ]
  },
  {
   "cell_type": "markdown",
   "id": "48126851",
   "metadata": {},
   "source": [
    "<h6>Normalize the data using training set statistics</h6>"
   ]
  },
  {
   "cell_type": "code",
   "execution_count": 11,
   "id": "d10a9380",
   "metadata": {},
   "outputs": [],
   "source": [
    "mean = np.mean(train_features, axis=0)\n",
    "train_features -= mean\n",
    "val_features -= mean\n",
    "std = np.std(train_features, axis=0)\n",
    "train_features /= std\n",
    "val_features /= std"
   ]
  },
  {
   "cell_type": "markdown",
   "id": "d3cde0e6",
   "metadata": {},
   "source": [
    "<h6>Build a binary classification model</h6>"
   ]
  },
  {
   "cell_type": "code",
   "execution_count": 12,
   "id": "ba54566f",
   "metadata": {},
   "outputs": [
    {
     "name": "stdout",
     "output_type": "stream",
     "text": [
      "Model: \"sequential\"\n",
      "_________________________________________________________________\n",
      " Layer (type)                Output Shape              Param #   \n",
      "=================================================================\n",
      " dense (Dense)               (None, 256)               7936      \n",
      "                                                                 \n",
      " dense_1 (Dense)             (None, 256)               65792     \n",
      "                                                                 \n",
      " dropout (Dropout)           (None, 256)               0         \n",
      "                                                                 \n",
      " dense_2 (Dense)             (None, 256)               65792     \n",
      "                                                                 \n",
      " dropout_1 (Dropout)         (None, 256)               0         \n",
      "                                                                 \n",
      " dense_3 (Dense)             (None, 1)                 257       \n",
      "                                                                 \n",
      "=================================================================\n",
      "Total params: 139,777\n",
      "Trainable params: 139,777\n",
      "Non-trainable params: 0\n",
      "_________________________________________________________________\n"
     ]
    }
   ],
   "source": [
    "from tensorflow import keras\n",
    "\n",
    "model = keras.Sequential(\n",
    "    [\n",
    "        keras.layers.Dense(\n",
    "            256, activation=\"relu\", input_shape=(train_features.shape[-1],)\n",
    "        ),\n",
    "        keras.layers.Dense(256, activation=\"relu\"),\n",
    "        keras.layers.Dropout(0.3),\n",
    "        keras.layers.Dense(256, activation=\"relu\"),\n",
    "        keras.layers.Dropout(0.3),\n",
    "        keras.layers.Dense(1, activation=\"sigmoid\"),\n",
    "    ]\n",
    ")\n",
    "model.summary()"
   ]
  },
  {
   "cell_type": "markdown",
   "id": "8bf35fcc",
   "metadata": {},
   "source": [
    "<h6>Train the model with class_weight argument</h6>"
   ]
  },
  {
   "cell_type": "code",
   "execution_count": 13,
   "id": "962ca831",
   "metadata": {},
   "outputs": [
    {
     "name": "stdout",
     "output_type": "stream",
     "text": [
      "Epoch 1/30\n",
      "112/112 - 4s - loss: 2.2066e-06 - fn: 50.0000 - fp: 17335.0000 - tn: 210094.0000 - tp: 367.0000 - precision: 0.0207 - recall: 0.8801 - val_loss: 0.1410 - val_fn: 9.0000 - val_fp: 2266.0000 - val_tn: 54620.0000 - val_tp: 66.0000 - val_precision: 0.0283 - val_recall: 0.8800 - 4s/epoch - 34ms/step\n",
      "Epoch 2/30\n",
      "112/112 - 3s - loss: 1.5115e-06 - fn: 36.0000 - fp: 9133.0000 - tn: 218296.0000 - tp: 381.0000 - precision: 0.0400 - recall: 0.9137 - val_loss: 0.2344 - val_fn: 5.0000 - val_fp: 4991.0000 - val_tn: 51895.0000 - val_tp: 70.0000 - val_precision: 0.0138 - val_recall: 0.9333 - 3s/epoch - 24ms/step\n",
      "Epoch 3/30\n",
      "112/112 - 3s - loss: 1.2110e-06 - fn: 31.0000 - fp: 7345.0000 - tn: 220084.0000 - tp: 386.0000 - precision: 0.0499 - recall: 0.9257 - val_loss: 0.0810 - val_fn: 9.0000 - val_fp: 1323.0000 - val_tn: 55563.0000 - val_tp: 66.0000 - val_precision: 0.0475 - val_recall: 0.8800 - 3s/epoch - 25ms/step\n",
      "Epoch 4/30\n",
      "112/112 - 3s - loss: 1.0375e-06 - fn: 27.0000 - fp: 6470.0000 - tn: 220959.0000 - tp: 390.0000 - precision: 0.0569 - recall: 0.9353 - val_loss: 0.0877 - val_fn: 7.0000 - val_fp: 1686.0000 - val_tn: 55200.0000 - val_tp: 68.0000 - val_precision: 0.0388 - val_recall: 0.9067 - 3s/epoch - 25ms/step\n",
      "Epoch 5/30\n",
      "112/112 - 3s - loss: 8.7025e-07 - fn: 15.0000 - fp: 8368.0000 - tn: 219061.0000 - tp: 402.0000 - precision: 0.0458 - recall: 0.9640 - val_loss: 0.0953 - val_fn: 7.0000 - val_fp: 1982.0000 - val_tn: 54904.0000 - val_tp: 68.0000 - val_precision: 0.0332 - val_recall: 0.9067 - 3s/epoch - 23ms/step\n",
      "Epoch 6/30\n",
      "112/112 - 3s - loss: 7.6682e-07 - fn: 19.0000 - fp: 6642.0000 - tn: 220787.0000 - tp: 398.0000 - precision: 0.0565 - recall: 0.9544 - val_loss: 0.0899 - val_fn: 7.0000 - val_fp: 2099.0000 - val_tn: 54787.0000 - val_tp: 68.0000 - val_precision: 0.0314 - val_recall: 0.9067 - 3s/epoch - 23ms/step\n",
      "Epoch 7/30\n",
      "112/112 - 3s - loss: 7.1260e-07 - fn: 17.0000 - fp: 7175.0000 - tn: 220254.0000 - tp: 400.0000 - precision: 0.0528 - recall: 0.9592 - val_loss: 0.3008 - val_fn: 3.0000 - val_fp: 6901.0000 - val_tn: 49985.0000 - val_tp: 72.0000 - val_precision: 0.0103 - val_recall: 0.9600 - 3s/epoch - 24ms/step\n",
      "Epoch 8/30\n",
      "112/112 - 3s - loss: 8.5413e-07 - fn: 20.0000 - fp: 7654.0000 - tn: 219775.0000 - tp: 397.0000 - precision: 0.0493 - recall: 0.9520 - val_loss: 0.0671 - val_fn: 6.0000 - val_fp: 1692.0000 - val_tn: 55194.0000 - val_tp: 69.0000 - val_precision: 0.0392 - val_recall: 0.9200 - 3s/epoch - 23ms/step\n",
      "Epoch 9/30\n",
      "112/112 - 3s - loss: 1.8522e-06 - fn: 22.0000 - fp: 9999.0000 - tn: 217430.0000 - tp: 395.0000 - precision: 0.0380 - recall: 0.9472 - val_loss: 0.0699 - val_fn: 11.0000 - val_fp: 651.0000 - val_tn: 56235.0000 - val_tp: 64.0000 - val_precision: 0.0895 - val_recall: 0.8533 - 3s/epoch - 23ms/step\n",
      "Epoch 10/30\n",
      "112/112 - 3s - loss: 1.7009e-06 - fn: 27.0000 - fp: 9994.0000 - tn: 217435.0000 - tp: 390.0000 - precision: 0.0376 - recall: 0.9353 - val_loss: 0.3671 - val_fn: 6.0000 - val_fp: 5201.0000 - val_tn: 51685.0000 - val_tp: 69.0000 - val_precision: 0.0131 - val_recall: 0.9200 - 3s/epoch - 24ms/step\n",
      "Epoch 11/30\n",
      "112/112 - 3s - loss: 1.5095e-06 - fn: 20.0000 - fp: 7846.0000 - tn: 219583.0000 - tp: 397.0000 - precision: 0.0482 - recall: 0.9520 - val_loss: 0.0740 - val_fn: 6.0000 - val_fp: 1395.0000 - val_tn: 55491.0000 - val_tp: 69.0000 - val_precision: 0.0471 - val_recall: 0.9200 - 3s/epoch - 26ms/step\n",
      "Epoch 12/30\n",
      "112/112 - 3s - loss: 2.8319e-06 - fn: 18.0000 - fp: 11080.0000 - tn: 216349.0000 - tp: 399.0000 - precision: 0.0348 - recall: 0.9568 - val_loss: 0.0676 - val_fn: 12.0000 - val_fp: 286.0000 - val_tn: 56600.0000 - val_tp: 63.0000 - val_precision: 0.1805 - val_recall: 0.8400 - 3s/epoch - 23ms/step\n",
      "Epoch 13/30\n",
      "112/112 - 3s - loss: 4.7512e-06 - fn: 23.0000 - fp: 7323.0000 - tn: 220106.0000 - tp: 394.0000 - precision: 0.0511 - recall: 0.9448 - val_loss: 0.0959 - val_fn: 5.0000 - val_fp: 1106.0000 - val_tn: 55780.0000 - val_tp: 70.0000 - val_precision: 0.0595 - val_recall: 0.9333 - 3s/epoch - 23ms/step\n",
      "Epoch 14/30\n",
      "112/112 - 3s - loss: 8.7964e-07 - fn: 12.0000 - fp: 5052.0000 - tn: 222377.0000 - tp: 405.0000 - precision: 0.0742 - recall: 0.9712 - val_loss: 0.0326 - val_fn: 8.0000 - val_fp: 629.0000 - val_tn: 56257.0000 - val_tp: 67.0000 - val_precision: 0.0963 - val_recall: 0.8933 - 3s/epoch - 24ms/step\n",
      "Epoch 15/30\n",
      "112/112 - 3s - loss: 1.2092e-06 - fn: 10.0000 - fp: 5074.0000 - tn: 222355.0000 - tp: 407.0000 - precision: 0.0743 - recall: 0.9760 - val_loss: 0.0581 - val_fn: 9.0000 - val_fp: 844.0000 - val_tn: 56042.0000 - val_tp: 66.0000 - val_precision: 0.0725 - val_recall: 0.8800 - 3s/epoch - 23ms/step\n",
      "Epoch 16/30\n",
      "112/112 - 3s - loss: 8.1713e-07 - fn: 9.0000 - fp: 4737.0000 - tn: 222692.0000 - tp: 408.0000 - precision: 0.0793 - recall: 0.9784 - val_loss: 0.0672 - val_fn: 9.0000 - val_fp: 1092.0000 - val_tn: 55794.0000 - val_tp: 66.0000 - val_precision: 0.0570 - val_recall: 0.8800 - 3s/epoch - 24ms/step\n",
      "Epoch 17/30\n",
      "112/112 - 3s - loss: 6.4192e-07 - fn: 4.0000 - fp: 4244.0000 - tn: 223185.0000 - tp: 413.0000 - precision: 0.0887 - recall: 0.9904 - val_loss: 0.0548 - val_fn: 9.0000 - val_fp: 502.0000 - val_tn: 56384.0000 - val_tp: 66.0000 - val_precision: 0.1162 - val_recall: 0.8800 - 3s/epoch - 23ms/step\n",
      "Epoch 18/30\n",
      "112/112 - 3s - loss: 4.3416e-07 - fn: 8.0000 - fp: 3432.0000 - tn: 223997.0000 - tp: 409.0000 - precision: 0.1065 - recall: 0.9808 - val_loss: 0.0601 - val_fn: 7.0000 - val_fp: 1665.0000 - val_tn: 55221.0000 - val_tp: 68.0000 - val_precision: 0.0392 - val_recall: 0.9067 - 3s/epoch - 24ms/step\n",
      "Epoch 19/30\n",
      "112/112 - 3s - loss: 4.7587e-07 - fn: 2.0000 - fp: 4329.0000 - tn: 223100.0000 - tp: 415.0000 - precision: 0.0875 - recall: 0.9952 - val_loss: 0.0181 - val_fn: 12.0000 - val_fp: 128.0000 - val_tn: 56758.0000 - val_tp: 63.0000 - val_precision: 0.3298 - val_recall: 0.8400 - 3s/epoch - 23ms/step\n",
      "Epoch 20/30\n",
      "112/112 - 3s - loss: 4.6849e-07 - fn: 4.0000 - fp: 3701.0000 - tn: 223728.0000 - tp: 413.0000 - precision: 0.1004 - recall: 0.9904 - val_loss: 0.0156 - val_fn: 11.0000 - val_fp: 280.0000 - val_tn: 56606.0000 - val_tp: 64.0000 - val_precision: 0.1860 - val_recall: 0.8533 - 3s/epoch - 24ms/step\n",
      "Epoch 21/30\n",
      "112/112 - 3s - loss: 6.5210e-07 - fn: 2.0000 - fp: 3422.0000 - tn: 224007.0000 - tp: 415.0000 - precision: 0.1082 - recall: 0.9952 - val_loss: 0.0244 - val_fn: 10.0000 - val_fp: 344.0000 - val_tn: 56542.0000 - val_tp: 65.0000 - val_precision: 0.1589 - val_recall: 0.8667 - 3s/epoch - 23ms/step\n",
      "Epoch 22/30\n",
      "112/112 - 3s - loss: 3.3284e-07 - fn: 2.0000 - fp: 2926.0000 - tn: 224503.0000 - tp: 415.0000 - precision: 0.1242 - recall: 0.9952 - val_loss: 0.0110 - val_fn: 11.0000 - val_fp: 189.0000 - val_tn: 56697.0000 - val_tp: 64.0000 - val_precision: 0.2530 - val_recall: 0.8533 - 3s/epoch - 23ms/step\n",
      "Epoch 23/30\n",
      "112/112 - 3s - loss: 2.7833e-07 - fn: 1.0000 - fp: 3059.0000 - tn: 224370.0000 - tp: 416.0000 - precision: 0.1197 - recall: 0.9976 - val_loss: 0.0156 - val_fn: 9.0000 - val_fp: 254.0000 - val_tn: 56632.0000 - val_tp: 66.0000 - val_precision: 0.2062 - val_recall: 0.8800 - 3s/epoch - 24ms/step\n",
      "Epoch 24/30\n",
      "112/112 - 3s - loss: 2.1677e-07 - fn: 2.0000 - fp: 2284.0000 - tn: 225145.0000 - tp: 415.0000 - precision: 0.1538 - recall: 0.9952 - val_loss: 0.0255 - val_fn: 8.0000 - val_fp: 508.0000 - val_tn: 56378.0000 - val_tp: 67.0000 - val_precision: 0.1165 - val_recall: 0.8933 - 3s/epoch - 24ms/step\n",
      "Epoch 25/30\n",
      "112/112 - 3s - loss: 2.1178e-07 - fn: 2.0000 - fp: 2530.0000 - tn: 224899.0000 - tp: 415.0000 - precision: 0.1409 - recall: 0.9952 - val_loss: 0.0116 - val_fn: 9.0000 - val_fp: 208.0000 - val_tn: 56678.0000 - val_tp: 66.0000 - val_precision: 0.2409 - val_recall: 0.8800 - 3s/epoch - 23ms/step\n",
      "Epoch 26/30\n",
      "112/112 - 3s - loss: 2.7783e-07 - fn: 2.0000 - fp: 3018.0000 - tn: 224411.0000 - tp: 415.0000 - precision: 0.1209 - recall: 0.9952 - val_loss: 0.0200 - val_fn: 10.0000 - val_fp: 314.0000 - val_tn: 56572.0000 - val_tp: 65.0000 - val_precision: 0.1715 - val_recall: 0.8667 - 3s/epoch - 24ms/step\n",
      "Epoch 27/30\n",
      "112/112 - 3s - loss: 1.8444e-07 - fn: 3.0000 - fp: 1867.0000 - tn: 225562.0000 - tp: 414.0000 - precision: 0.1815 - recall: 0.9928 - val_loss: 0.0139 - val_fn: 9.0000 - val_fp: 276.0000 - val_tn: 56610.0000 - val_tp: 66.0000 - val_precision: 0.1930 - val_recall: 0.8800 - 3s/epoch - 25ms/step\n"
     ]
    },
    {
     "name": "stdout",
     "output_type": "stream",
     "text": [
      "Epoch 28/30\n",
      "112/112 - 3s - loss: 2.1008e-07 - fn: 1.0000 - fp: 2763.0000 - tn: 224666.0000 - tp: 416.0000 - precision: 0.1309 - recall: 0.9976 - val_loss: 0.0106 - val_fn: 11.0000 - val_fp: 175.0000 - val_tn: 56711.0000 - val_tp: 64.0000 - val_precision: 0.2678 - val_recall: 0.8533 - 3s/epoch - 24ms/step\n",
      "Epoch 29/30\n",
      "112/112 - 3s - loss: 3.1205e-07 - fn: 4.0000 - fp: 3333.0000 - tn: 224096.0000 - tp: 413.0000 - precision: 0.1103 - recall: 0.9904 - val_loss: 0.0337 - val_fn: 9.0000 - val_fp: 421.0000 - val_tn: 56465.0000 - val_tp: 66.0000 - val_precision: 0.1355 - val_recall: 0.8800 - 3s/epoch - 23ms/step\n",
      "Epoch 30/30\n",
      "112/112 - 2s - loss: 1.6464e-07 - fn: 0.0000e+00 - fp: 1931.0000 - tn: 225498.0000 - tp: 417.0000 - precision: 0.1776 - recall: 1.0000 - val_loss: 0.0086 - val_fn: 11.0000 - val_fp: 96.0000 - val_tn: 56790.0000 - val_tp: 64.0000 - val_precision: 0.4000 - val_recall: 0.8533 - 2s/epoch - 22ms/step\n"
     ]
    },
    {
     "data": {
      "text/plain": [
       "<keras.callbacks.History at 0x162c007df40>"
      ]
     },
     "execution_count": 13,
     "metadata": {},
     "output_type": "execute_result"
    }
   ],
   "source": [
    "metrics = [\n",
    "    keras.metrics.FalseNegatives(name=\"fn\"),\n",
    "    keras.metrics.FalsePositives(name=\"fp\"),\n",
    "    keras.metrics.TrueNegatives(name=\"tn\"),\n",
    "    keras.metrics.TruePositives(name=\"tp\"),\n",
    "    keras.metrics.Precision(name=\"precision\"),\n",
    "    keras.metrics.Recall(name=\"recall\"),\n",
    "]\n",
    "\n",
    "model.compile(\n",
    "    optimizer=keras.optimizers.Adam(1e-2), loss=\"binary_crossentropy\", metrics=metrics\n",
    ")\n",
    "\n",
    "callbacks = [keras.callbacks.ModelCheckpoint(\"fraud_model_at_epoch_{epoch}.h5\")]\n",
    "class_weight = {0: weight_for_0, 1: weight_for_1}\n",
    "\n",
    "model.fit(\n",
    "    train_features,\n",
    "    train_targets,\n",
    "    batch_size=2048,\n",
    "    epochs=30,\n",
    "    verbose=2,\n",
    "    callbacks=callbacks,\n",
    "    validation_data=(val_features, val_targets),\n",
    "    class_weight=class_weight,\n",
    ")"
   ]
  },
  {
   "cell_type": "code",
   "execution_count": null,
   "id": "12c93581",
   "metadata": {},
   "outputs": [],
   "source": []
  }
 ],
 "metadata": {
  "kernelspec": {
   "display_name": "Python 3 (ipykernel)",
   "language": "python",
   "name": "python3"
  },
  "language_info": {
   "codemirror_mode": {
    "name": "ipython",
    "version": 3
   },
   "file_extension": ".py",
   "mimetype": "text/x-python",
   "name": "python",
   "nbconvert_exporter": "python",
   "pygments_lexer": "ipython3",
   "version": "3.9.13"
  }
 },
 "nbformat": 4,
 "nbformat_minor": 5
}
